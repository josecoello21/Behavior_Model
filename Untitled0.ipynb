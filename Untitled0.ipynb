{
  "nbformat": 4,
  "nbformat_minor": 0,
  "metadata": {
    "colab": {
      "name": "Untitled0.ipynb",
      "provenance": [],
      "authorship_tag": "ABX9TyNgI4QqlIFKYzYRERHEDXoA",
      "include_colab_link": true
    },
    "kernelspec": {
      "name": "python3",
      "display_name": "Python 3"
    },
    "language_info": {
      "name": "python"
    }
  },
  "cells": [
    {
      "cell_type": "markdown",
      "metadata": {
        "id": "view-in-github",
        "colab_type": "text"
      },
      "source": [
        "<a href=\"https://colab.research.google.com/github/josecoello21/Behavior_Model/blob/main/Untitled0.ipynb\" target=\"_parent\"><img src=\"https://colab.research.google.com/assets/colab-badge.svg\" alt=\"Open In Colab\"/></a>"
      ]
    },
    {
      "cell_type": "code",
      "execution_count": null,
      "metadata": {
        "colab": {
          "base_uri": "https://localhost:8080/"
        },
        "id": "kQd1UmD8m7uB",
        "outputId": "01dbef18-3ca5-4b8d-e101-603dca19554b"
      },
      "outputs": [
        {
          "output_type": "stream",
          "name": "stdout",
          "text": [
            "['a', 'i', 'r', 'm', 'e', 'n']\n"
          ]
        }
      ],
      "source": [
        "def apply(lst, trans):\n",
        "  first, second = trans\n",
        "  lst[first], lst[second] = lst[second], lst[first]\n",
        "\n",
        "word = ['m', 'a', 'r', 'i', 'n', 'e']\n",
        "transpositions = [(0,1), (1,3), (4,5)]\n",
        "\n",
        "for transposition in transpositions:\n",
        "  apply(word, transposition)\n",
        "\n",
        "print(word)\n",
        "\n"
      ]
    },
    {
      "cell_type": "code",
      "source": [
        "word_one = '0123456789'\n",
        "word_two = '0324567198'\n",
        "\n",
        "def sequence(x, y):\n",
        "  list_one = list(x)\n",
        "  v1, v2, result = [], [], []\n",
        "  r = range(len(x))\n",
        "\n",
        "  for i in r:\n",
        "    v1.append(i)\n",
        "    v2.append(list_one.index(y[i]))\n",
        "\n",
        "  for k in r:\n",
        "    tran = ( k, v2.index(v1[k]) )\n",
        "\n",
        "    if(tran[0] - tran[1] != 0):\n",
        "      v1[ tran[0] ], v1[ tran[1] ] = v1[ tran[1] ], v1[ tran[0] ]\n",
        "      result.append(tuple(v1))\n",
        "  \n",
        "  return(result)\n",
        "\n",
        "print(sequence(word_one, word_two))\n",
        "\n",
        "\n",
        "\n"
      ],
      "metadata": {
        "id": "Kvex48C-FtGU",
        "outputId": "eba162e4-adf4-407f-be45-99ffacc54b9d",
        "colab": {
          "base_uri": "https://localhost:8080/"
        }
      },
      "execution_count": null,
      "outputs": [
        {
          "output_type": "stream",
          "name": "stdout",
          "text": [
            "[(0, 7, 2, 3, 4, 5, 6, 1, 8, 9), (0, 3, 2, 7, 4, 5, 6, 1, 8, 9), (0, 3, 2, 4, 7, 5, 6, 1, 8, 9), (0, 3, 2, 4, 5, 7, 6, 1, 8, 9), (0, 3, 2, 4, 5, 6, 7, 1, 8, 9), (0, 3, 2, 4, 5, 6, 7, 1, 9, 8)]\n"
          ]
        }
      ]
    },
    {
      "cell_type": "code",
      "source": [
        "def sequence(x, y):\n",
        "  list_one = list(x)\n",
        "  list_two = list(y)\n",
        "  result = []\n",
        "\n",
        "  for i in range(len(x)):\n",
        "    tran = ( i, list_one.index(list_two[i]) )\n",
        "\n",
        "    if(tran[0] - tran[1] != 0):\n",
        "      list_one[ tran[0] ], list_one[ tran[1] ] = list_one[ tran[1] ], list_one[ tran[0] ]\n",
        "      result.append(tran)\n",
        "  return(result)\n",
        "\n",
        "sequence('marine', 'airmen')"
      ],
      "metadata": {
        "colab": {
          "base_uri": "https://localhost:8080/"
        },
        "id": "m-k4GtlAWsJw",
        "outputId": "2a7824b6-d9cf-4151-bef5-1ffc7026afb4"
      },
      "execution_count": null,
      "outputs": [
        {
          "output_type": "execute_result",
          "data": {
            "text/plain": [
              "[(0, 1), (1, 3), (4, 5)]"
            ]
          },
          "metadata": {},
          "execution_count": 1
        }
      ]
    },
    {
      "cell_type": "code",
      "source": [
        ""
      ],
      "metadata": {
        "id": "iBhaXuFWm_6X"
      },
      "execution_count": null,
      "outputs": []
    }
  ]
}