{
  "nbformat": 4,
  "nbformat_minor": 0,
  "metadata": {
    "colab": {
      "name": "Untitled1.ipynb",
      "provenance": [],
      "authorship_tag": "ABX9TyPWNmehuAiJqo1tQ0pkYIlp",
      "include_colab_link": true
    },
    "kernelspec": {
      "name": "python3",
      "display_name": "Python 3"
    },
    "language_info": {
      "name": "python"
    }
  },
  "cells": [
    {
      "cell_type": "markdown",
      "metadata": {
        "id": "view-in-github",
        "colab_type": "text"
      },
      "source": [
        "<a href=\"https://colab.research.google.com/github/josecoello21/Behavior_Model/blob/main/Untitled1.ipynb\" target=\"_parent\"><img src=\"https://colab.research.google.com/assets/colab-badge.svg\" alt=\"Open In Colab\"/></a>"
      ]
    },
    {
      "cell_type": "markdown",
      "source": [
        "1. In the following piece of code, there is one line starting with #. What does this line mean in Python?"
      ],
      "metadata": {
        "id": "GROa9nXgq2S9"
      }
    },
    {
      "cell_type": "code",
      "source": [
        "tax_rate = 0.15\n",
        "income = 40000\n",
        "deduction = 10000\n",
        "\n",
        "# Calculate income taxes\n",
        "tax = (income - deduction) * tax_rate\n",
        "print(tax)"
      ],
      "metadata": {
        "id": "zQSYJdFqrIAP"
      },
      "execution_count": null,
      "outputs": []
    },
    {
      "cell_type": "markdown",
      "source": [
        "**Answer:** This is a comment aimed at the human reader. Python ignores such comments."
      ],
      "metadata": {
        "id": "7zKXEQcmrccK"
      }
    },
    {
      "cell_type": "markdown",
      "source": [
        "2. Which of the following are syntactically correct strings?\n",
        "\n",
        "**Answer:** \"This course is great!\""
      ],
      "metadata": {
        "id": "CCVBATEhr-cc"
      }
    },
    {
      "cell_type": "markdown",
      "source": [
        "3. Which of the following statements uses correct Python 3 syntax to print \"Hello world.\" in the console?\n",
        "\n",
        "**Answer:**"
      ],
      "metadata": {
        "id": "Y18TVvqhsMtH"
      }
    },
    {
      "cell_type": "code",
      "source": [
        "print('Hello world.')"
      ],
      "metadata": {
        "id": "8Kw_Q00-selZ"
      },
      "execution_count": null,
      "outputs": []
    },
    {
      "cell_type": "markdown",
      "source": [
        "4. Which of the following arithmetic expressions are syntactically correct?\n",
        "\n",
        "**Answer:**"
      ],
      "metadata": {
        "id": "gEhBXh8JuObH"
      }
    },
    {
      "cell_type": "code",
      "source": [
        "8/-2\n",
        "5-1-3-7-0\n",
        "(8+((2*4)-3))"
      ],
      "metadata": {
        "id": "AoCiob3PuZfX"
      },
      "execution_count": null,
      "outputs": []
    },
    {
      "cell_type": "markdown",
      "source": [
        "5. Which of the following can be used as a variable name?\n",
        "\n",
        "**Answer:** ounces, MYnumber"
      ],
      "metadata": {
        "id": "V98iM_acvE13"
      }
    },
    {
      "cell_type": "markdown",
      "source": [
        "6. You would like to make it so that the variable ounces has the value 16, thus representing one pound. What simple Python statement will accomplish this?\n",
        "\n",
        "**Answer:** ounces = 16"
      ],
      "metadata": {
        "id": "bF3X6pakqtx4"
      }
    },
    {
      "cell_type": "markdown",
      "source": [
        "7. A gram is equal to 0.035274 ounces. Assume that the variable mass_in_ounces has a value representing a given mass in ounces. Which Python statement below uses the variable mass_in_ounces to compute an equivalent mass mass_in_grams expressed in grams?\n",
        "\n",
        "**Answer:** mass_in_grams = 0.035274 / mass_in_ounces "
      ],
      "metadata": {
        "id": "6f6nDyoIy9EF"
      }
    }
  ]
}